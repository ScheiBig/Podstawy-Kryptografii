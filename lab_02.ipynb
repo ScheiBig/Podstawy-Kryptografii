{
 "cells": [
  {
   "cell_type": "markdown",
   "metadata": {},
   "source": [
    "# Lab 2\n",
    "### RSA"
   ]
  },
  {
   "cell_type": "code",
   "execution_count": 12,
   "metadata": {},
   "outputs": [
    {
     "name": "stdout",
     "output_type": "stream",
     "text": [
      "p: 349, q: 337\n",
      "d: 54017\n",
      "og message: 420\n",
      "encrypted message: 96025\n",
      "decrypted message: 420\n"
     ]
    }
   ],
   "source": [
    "import random\n",
    "\n",
    "def gdc(a: int, b: int):\n",
    "    return b if a == 0 else gdc(b % a, a)\n",
    "\n",
    "def prime(fro: int, to: int) -> int:\n",
    "    while (True):\n",
    "        r = random.randint(fro, to)\n",
    "        is_prime = True\n",
    "        for i in range(2, r // 2):\n",
    "            if r % i == 0:\n",
    "                is_prime = False\n",
    "                break\n",
    "        \n",
    "        if is_prime:\n",
    "            return r\n",
    "        \n",
    "\n",
    "\n",
    "p = prime(256, 512) # 2**32, 2**33\n",
    "q = prime(256, 512)\n",
    "print(f\"p: {p}, q: {q}\")\n",
    "n = p * q\n",
    "phi = (p - 1)*(q - 1)\n",
    "e = 2 ** 16 + 1\n",
    "assert gdc(e, phi) == 1\n",
    "\n",
    "d = next((d for d in range(1, 100_000) if (d * e) % phi == 1))\n",
    "print(f\"d: {d}\")\n",
    "\n",
    "msg = 420\n",
    "crypt = (msg ** e) % n\n",
    "decrypt = (crypt ** d) % n\n",
    "print(f\"og message: {msg}\")\n",
    "print(f\"encrypted message: {crypt}\")\n",
    "print(f\"decrypted message: {decrypt}\")"
   ]
  },
  {
   "cell_type": "code",
   "execution_count": 32,
   "metadata": {},
   "outputs": [
    {
     "name": "stdout",
     "output_type": "stream",
     "text": [
      "p: 13586172155453, q: 7607887242259\n",
      "d: 25765995837163543645058489\n",
      "og message: 420\n",
      "encrypted message: 62940768019359603178714644\n",
      "decrypted message: 420\n"
     ]
    }
   ],
   "source": [
    "import random\n",
    "import math\n",
    "\n",
    "\n",
    "def gdc(a: int, b: int):\n",
    "    return b if a == 0 else gdc(b % a, a)\n",
    "\n",
    "\n",
    "def prime(fro: int, to: int) -> int:\n",
    "    r = random.randint(fro, to)\n",
    "    while True:\n",
    "        is_prime = True\n",
    "        for i in range(2, math.ceil(math.sqrt(r))):\n",
    "            if r % i == 0:\n",
    "                is_prime = False\n",
    "                break\n",
    "\n",
    "        if is_prime:\n",
    "            return r\n",
    "\n",
    "        r += 1\n",
    "\n",
    "\n",
    "def find_mod_inv(a: int, m: int) -> int:\n",
    "    (r, new_r) = (m, a)\n",
    "    (t, new_t) = (int(0), int(1))\n",
    "\n",
    "    while new_r != 0:\n",
    "        quo = r // new_r\n",
    "        (t, new_t) = (new_t, t - quo * new_t)\n",
    "        (r, new_r) = (new_r, r - quo * new_r)\n",
    "\n",
    "    if r > 1:\n",
    "        return None\n",
    "    elif t < 0:\n",
    "        return t + m\n",
    "    else:\n",
    "        return t\n",
    "    \n",
    "\n",
    "p = prime(2**40, 2**44)\n",
    "q = prime(2**40, 2**44)\n",
    "print(f\"p: {p}, q: {q}\")\n",
    "\n",
    "n = p * q\n",
    "phi = (p - 1)*(q - 1)\n",
    "e = 2 ** 16 + 1\n",
    "assert gdc(e, phi) == 1\n",
    "\n",
    "d = find_mod_inv(e, phi)\n",
    "print(f\"d: {d}\")\n",
    "\n",
    "assert d != None\n",
    "\n",
    "msg = 420\n",
    "crypt = pow(msg, e, n)\n",
    "decrypt = pow(crypt, d, n)\n",
    "print(f\"og message: {msg}\")\n",
    "print(f\"encrypted message: {crypt}\")\n",
    "print(f\"decrypted message: {decrypt}\")"
   ]
  }
 ],
 "metadata": {
  "kernelspec": {
   "display_name": "Python 3",
   "language": "python",
   "name": "python3"
  },
  "language_info": {
   "codemirror_mode": {
    "name": "ipython",
    "version": 3
   },
   "file_extension": ".py",
   "mimetype": "text/x-python",
   "name": "python",
   "nbconvert_exporter": "python",
   "pygments_lexer": "ipython3",
   "version": "3.11.3"
  }
 },
 "nbformat": 4,
 "nbformat_minor": 2
}
