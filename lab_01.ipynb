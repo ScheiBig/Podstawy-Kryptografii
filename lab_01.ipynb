{
 "cells": [
  {
   "cell_type": "markdown",
   "metadata": {},
   "source": [
    "# Lab 1\n",
    "### Szyfr plecakowy"
   ]
  },
  {
   "cell_type": "markdown",
   "metadata": {},
   "source": [
    "Wejścia:"
   ]
  },
  {
   "cell_type": "code",
   "execution_count": 50,
   "metadata": {},
   "outputs": [
    {
     "name": "stdout",
     "output_type": "stream",
     "text": [
      "641\n",
      "plecak trudny = [354, 885, 934, 19, 746, 351, 190, 350]\n",
      "plecak prosty = [2, 5, 11, 23, 50, 105, 230, 477]\n"
     ]
    }
   ],
   "source": [
    "from math import gcd\n",
    "\n",
    "msg = \"10001101\"\n",
    "\n",
    "bag = [  # każdy kolejny element musi być większy niż suma wszystkich poprzednich\n",
    "    2,\n",
    "    5,\n",
    "    11,\n",
    "    23,\n",
    "    50,\n",
    "    105,\n",
    "    230,\n",
    "    477\n",
    "]\n",
    "\n",
    "B = 1013 # musi być większe niż suma elementów w plecaku prostym, najlepiej liczba pierwsza\n",
    "C = 177 # nie może mieć wspólnych dzielników z `B` innych niż 1\n",
    "assert gcd(B, C) == 1\n",
    "D = next((n for n in range(1, 1000) if (n * C) % B == 1))\n",
    "print(D)\n",
    "\n",
    "public_bag = list(map(lambda v: (v * C) % B, bag))\n",
    "print(\"plecak trudny =\", public_bag)\n",
    "\n",
    "private_bag = list(map(lambda v: (v * D) % B, public_bag))\n",
    "print(\"plecak prosty =\", private_bag)"
   ]
  },
  {
   "cell_type": "markdown",
   "metadata": {},
   "source": [
    "#### Plecak prosty"
   ]
  },
  {
   "cell_type": "markdown",
   "metadata": {},
   "source": [
    "Wyliczenie kryptogramu:"
   ]
  },
  {
   "cell_type": "code",
   "execution_count": 51,
   "metadata": {},
   "outputs": [
    {
     "name": "stdout",
     "output_type": "stream",
     "text": [
      "kryptogram = 634\n"
     ]
    }
   ],
   "source": [
    "krypt_simple = sum([int(msg[i]) * v for i, v in enumerate(bag)])\n",
    "\n",
    "print(\"kryptogram =\", krypt_simple)"
   ]
  },
  {
   "cell_type": "markdown",
   "metadata": {},
   "source": [
    "Rozszyfrowanie:"
   ]
  },
  {
   "cell_type": "code",
   "execution_count": 52,
   "metadata": {},
   "outputs": [
    {
     "name": "stdout",
     "output_type": "stream",
     "text": [
      "10001101\n"
     ]
    }
   ],
   "source": [
    "enc_msg = [0] * len(bag)\n",
    "ks = krypt_simple\n",
    "for i, c in enumerate(reversed(bag)):\n",
    "    if ks >= c:\n",
    "        ks -= c\n",
    "        enc_msg[i] = 1\n",
    "\n",
    "enc_msg = \"\".join(map(str, reversed(enc_msg)))\n",
    "\n",
    "print(enc_msg)"
   ]
  },
  {
   "cell_type": "markdown",
   "metadata": {},
   "source": [
    "#### Plecak trudny"
   ]
  },
  {
   "cell_type": "code",
   "execution_count": 53,
   "metadata": {},
   "outputs": [
    {
     "name": "stdout",
     "output_type": "stream",
     "text": [
      "kryptogram = 1801\n"
     ]
    }
   ],
   "source": [
    "krypt_hard = sum([int(msg[i]) * v for i, v in enumerate(public_bag)])\n",
    "\n",
    "print(\"kryptogram =\", krypt_hard)"
   ]
  },
  {
   "cell_type": "markdown",
   "metadata": {},
   "source": [
    "Rozszyfrowanie (identyczne jak w prostym - używamy plecaka prywatnego):"
   ]
  },
  {
   "cell_type": "code",
   "execution_count": 55,
   "metadata": {},
   "outputs": [
    {
     "name": "stdout",
     "output_type": "stream",
     "text": [
      "10001101\n"
     ]
    }
   ],
   "source": [
    "enc_msg = [0] * len(bag)\n",
    "ks = (krypt_hard * D) % B\n",
    "for i, c in enumerate(reversed(private_bag)):\n",
    "    if ks >= c:\n",
    "        ks -= c\n",
    "        enc_msg[i] = 1\n",
    "\n",
    "enc_msg = \"\".join(map(str, reversed(enc_msg)))\n",
    "\n",
    "print(enc_msg)"
   ]
  }
 ],
 "metadata": {
  "kernelspec": {
   "display_name": "Python 3",
   "language": "python",
   "name": "python3"
  },
  "language_info": {
   "codemirror_mode": {
    "name": "ipython",
    "version": 3
   },
   "file_extension": ".py",
   "mimetype": "text/x-python",
   "name": "python",
   "nbconvert_exporter": "python",
   "pygments_lexer": "ipython3",
   "version": "3.11.3"
  }
 },
 "nbformat": 4,
 "nbformat_minor": 2
}
