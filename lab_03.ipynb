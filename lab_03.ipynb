{
 "cells": [
  {
   "cell_type": "markdown",
   "metadata": {},
   "source": [
    "# Lab 3\n",
    "\n",
    "### AES"
   ]
  },
  {
   "cell_type": "code",
   "execution_count": 26,
   "metadata": {},
   "outputs": [],
   "source": [
    "from Crypto.Cipher import AES\n",
    "from Crypto.Util.Padding import pad, unpad\n",
    "import sympy\n",
    "import hashlib\n",
    "\n",
    "def digest(n: int):\n",
    "    return hashlib.md5(str(n).encode(\"ascii\")).digest()\n",
    "\n",
    "key = \"0123456789ABCDEF\".encode(\"ascii\")\n",
    "msg = \"Hello world!\"\n",
    "block_size = 32\n",
    "\n",
    "pr = sympy.randprime(2**64, 2**65)\n",
    "p = sympy.randprime(2**64, 2**65)\n",
    "q = sympy.randprime(2**64, 2**65)"
   ]
  },
  {
   "cell_type": "code",
   "execution_count": 11,
   "metadata": {},
   "outputs": [
    {
     "name": "stdout",
     "output_type": "stream",
     "text": [
      "Encrypted message is: b'\\x9e\\xf8\\x0f\\xc4@+[\\xefD_\\x04!\\x02\\x99x\\t@\\x1d\\xe9D\\x1fJ\\xfd@\\x8c\\x7f-O\\xeb\\xc8s\\xc8'\n"
     ]
    }
   ],
   "source": [
    "cipher = AES.new(key, AES.MODE_ECB)\n",
    "kryptogram = cipher.encrypt(pad(msg.encode(\"ascii\"), block_size))\n",
    "\n",
    "print(f\"Encrypted message is: {kryptogram}\")"
   ]
  },
  {
   "cell_type": "code",
   "execution_count": 12,
   "metadata": {},
   "outputs": [
    {
     "name": "stdout",
     "output_type": "stream",
     "text": [
      "Encrypted message is: Hello world!\n"
     ]
    }
   ],
   "source": [
    "decr_msg = unpad(cipher.decrypt(kryptogram), block_size).decode(\"ascii\")\n",
    "print(f\"Encrypted message is: {decr_msg}\")"
   ]
  },
  {
   "cell_type": "markdown",
   "metadata": {},
   "source": [
    "Szyfrowanie hybrydowe"
   ]
  },
  {
   "cell_type": "code",
   "execution_count": 50,
   "metadata": {},
   "outputs": [
    {
     "name": "stdout",
     "output_type": "stream",
     "text": [
      "Shared data:\n",
      "Encrypted message is: b'zID\\xdf\\xd8#\\xd5O\\xbbq\\xc0<\\xe6\\x19&9\\xedH\\x1f\\xb6a\\x9f\\xadcA\\x80\\xc9\\x07P<\\xf0\\xe2'\n",
      "Encrypted raw key is: 196142166731056542766302285232058090713\n",
      "\n",
      "RSA key is: [ d: 130462336494397962891871680287567485313, n: 1050124066179484069586625368060000951503 ]\n"
     ]
    }
   ],
   "source": [
    "n = p * q\n",
    "phi = (p - 1) * (q - 1)\n",
    "e = 2**16 + 1\n",
    "d = pow(e, -1, phi)\n",
    "\n",
    "aes_key = digest(pr)\n",
    "aes_raw_crypt_key = pow(pr, e, n)\n",
    "\n",
    "cipher_hib = AES.new(aes_key, AES.MODE_ECB)\n",
    "krypt = cipher_hib.encrypt(pad(msg.encode(\"ascii\"), block_size))\n",
    "\n",
    "print(\"Shared data:\")\n",
    "print(f\"Encrypted message is: {krypt}\")\n",
    "print(f\"Encrypted raw key is: {aes_raw_crypt_key}\")\n",
    "print()\n",
    "print(f\"RSA key is: [ d: {d}, n: {n} ]\")"
   ]
  },
  {
   "cell_type": "code",
   "execution_count": 44,
   "metadata": {},
   "outputs": [
    {
     "name": "stdout",
     "output_type": "stream",
     "text": [
      "b'a\\xeca$\\xad\\xef\\xef\\x13\\xaf\\xd7\\xcb\\x895\\x06\\xb1 '\n",
      "Hello world!\n"
     ]
    }
   ],
   "source": [
    "aes_decr_key = digest(pow(aes_raw_crypt_key, d, n))\n",
    "print(aes_decr_key)\n",
    "decr_msg = unpad(cipher_hib.decrypt(krypt), block_size).decode(\"ascii\")\n",
    "\n",
    "print(decr_msg)"
   ]
  }
 ],
 "metadata": {
  "kernelspec": {
   "display_name": "Python 3",
   "language": "python",
   "name": "python3"
  },
  "language_info": {
   "codemirror_mode": {
    "name": "ipython",
    "version": 3
   },
   "file_extension": ".py",
   "mimetype": "text/x-python",
   "name": "python",
   "nbconvert_exporter": "python",
   "pygments_lexer": "ipython3",
   "version": "3.11.3"
  }
 },
 "nbformat": 4,
 "nbformat_minor": 2
}
